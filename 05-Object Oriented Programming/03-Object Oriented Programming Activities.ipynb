{
 "cells": [
  {
   "cell_type": "markdown",
   "metadata": {},
   "source": [
    "# Object Oriented Programming\n",
    "## Homework Assignment\n",
    "\n",
    "#### Problem 1\n",
    "Fill in the Line class methods to accept coordinates as a pair of tuples. Implement the following formulas as the distance and slope functions.\n",
    "\n",
    "Formula for distance: $\\sqrt{((x_2-x_1)^2+(y_2-y_1)^2)}$\n",
    "\n",
    "Formula for slope: $\\LARGE \\frac{y_2-y_1}{x_2-x_1}$\n",
    "\n",
    "If we have the coordinates (0,4) and (2,6): \\\n",
    "$x_1 = 0, x_2 = 2, y_1 = 4, \\text{and } y_2 = 6$"
   ]
  },
  {
   "cell_type": "code",
   "execution_count": null,
   "metadata": {},
   "outputs": [],
   "source": [
    "import math\n",
    "class Line:\n",
    "\n",
    "    #Hint: Take in a pair of tuples here\n",
    "    def __init__(self, #YOUR CODE HERE):\n",
    "        #YOUR CODE HERE\n",
    "\n",
    "    def distance(self):\n",
    "        #YOUR CODE HERE\n",
    "    \n",
    "    def slope(self):\n",
    "        #YOUR CODE HERE"
   ]
  },
  {
   "cell_type": "code",
   "execution_count": null,
   "metadata": {},
   "outputs": [],
   "source": [
    "# EXAMPLE OUTPUT\n",
    "coordinate1 = (3,2)\n",
    "coordinate2 = (8,10)\n",
    "\n",
    "li = Line(coordinate1,coordinate2)"
   ]
  },
  {
   "cell_type": "code",
   "execution_count": null,
   "metadata": {
    "scrolled": true
   },
   "outputs": [],
   "source": [
    "li.distance()\n",
    "#result should be about 9.43"
   ]
  },
  {
   "cell_type": "code",
   "execution_count": null,
   "metadata": {},
   "outputs": [],
   "source": [
    "li.slope()\n",
    "#result should be about 1.6"
   ]
  },
  {
   "cell_type": "markdown",
   "metadata": {},
   "source": [
    "________\n",
    "#### Problem 2"
   ]
  },
  {
   "cell_type": "markdown",
   "metadata": {},
   "source": [
    "Fill in the cylander class to accept a height and a radius. Implement the following formulas as the volume and surface_area functions. Use 3.14 as the value of $\\pi$.\n",
    "\n",
    "Formula for volume: $\\pi\\ \\times \\text{radius}^2\\ \\times \\text{height}$\n",
    "\n",
    "Formula for surface area: $(2\\pi \\times \\text{radius} \\times \\text{height})+(\\;2\\pi\\ \\times \\text{radius}^2)$"
   ]
  },
  {
   "cell_type": "code",
   "execution_count": null,
   "metadata": {},
   "outputs": [],
   "source": [
    "class Cylinder:\n",
    "\n",
    "    #Hint: take in a height and a radius here\n",
    "    def __init__(self,#YOUR CODE HERE):\n",
    "        #YOUR CODE HERE\n",
    "        \n",
    "    def volume(self):\n",
    "        #YOUR CODE HERE\n",
    "    \n",
    "    def surface_area(self):\n",
    "        #YOUR CODE HERE"
   ]
  },
  {
   "cell_type": "code",
   "execution_count": null,
   "metadata": {},
   "outputs": [],
   "source": [
    "c = Cylinder(radius = 2, height = 3)"
   ]
  },
  {
   "cell_type": "code",
   "execution_count": null,
   "metadata": {},
   "outputs": [],
   "source": [
    "c.volume()\n",
    "#should be about 37.7"
   ]
  },
  {
   "cell_type": "code",
   "execution_count": null,
   "metadata": {},
   "outputs": [],
   "source": [
    "c.surface_area()\n",
    "#should be about 62.8"
   ]
  }
 ],
 "metadata": {
  "kernelspec": {
   "display_name": "Python 3 (ipykernel)",
   "language": "python",
   "name": "python3"
  },
  "language_info": {
   "codemirror_mode": {
    "name": "ipython",
    "version": 3
   },
   "file_extension": ".py",
   "mimetype": "text/x-python",
   "name": "python",
   "nbconvert_exporter": "python",
   "pygments_lexer": "ipython3",
   "version": "3.12.4"
  }
 },
 "nbformat": 4,
 "nbformat_minor": 4
}
