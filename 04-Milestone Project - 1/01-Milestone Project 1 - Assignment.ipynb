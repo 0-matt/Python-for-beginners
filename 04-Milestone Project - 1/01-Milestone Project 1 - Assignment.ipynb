{
 "cells": [
  {
   "cell_type": "markdown",
   "metadata": {},
   "source": [
    "# Milestone Project 1\n",
    "## Congratulations on making it to your first milestone!\n",
    "You've already learned a ton and are ready to work on a real project.\n",
    "\n",
    "Your assignment: Create a Tic Tac Toe game. You will create it in this unit's notebook, or you can create your own.\n",
    "\n",
    "Here are the requirements:\n",
    "\n",
    "* 2 players should be able to play the game (both sitting at the same computer)\n",
    "* The board should be printed out every time a player makes a move\n",
    "* You should be able to accept input of the player position and then place a symbol on the board\n",
    "\n",
    "Feel free to use Google and ChatGPT to help you figure anything out (but don't just ask \"Tic Tac Toe in Python\" otherwise you won't learn anything!) Keep in mind that this project can take anywhere between an hour to several days.\n",
    "\n",
    "There are 2 Jupyter Notebooks related to this assignment:\n",
    "\n",
    "* This Assignment Notebook (That you are reading now)\n",
    "* A \"Walkthrough Steps Workbook\" Notebook\n",
    "\n",
    "If you would like, you can try to start the project on your own without the walkthrough notebook. If you get stuck, check out the next notebook which has helpful hints and steps and breaks up the project in steps for you to solve."
   ]
  },
  {
   "cell_type": "markdown",
   "metadata": {},
   "source": [
    "There are parts of this that will be challenging...and that is good! We have complete faith that if you have made it this far through the course you have all the tools and knowledge to tackle this project. Remember, you can always search Google and ChatGPT for help, so take your time, do a little research, and remember:\n",
    "\n",
    "## HAVE FUN!"
   ]
  }
 ],
 "metadata": {
  "kernelspec": {
   "display_name": "Python 3 (ipykernel)",
   "language": "python",
   "name": "python3"
  },
  "language_info": {
   "codemirror_mode": {
    "name": "ipython",
    "version": 3
   },
   "file_extension": ".py",
   "mimetype": "text/x-python",
   "name": "python",
   "nbconvert_exporter": "python",
   "pygments_lexer": "ipython3",
   "version": "3.12.4"
  }
 },
 "nbformat": 4,
 "nbformat_minor": 4
}
